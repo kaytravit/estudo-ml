{
  "nbformat": 4,
  "nbformat_minor": 0,
  "metadata": {
    "colab": {
      "provenance": []
    },
    "kernelspec": {
      "name": "python3",
      "display_name": "Python 3"
    },
    "language_info": {
      "name": "python"
    }
  },
  "cells": [
    {
      "cell_type": "markdown",
      "source": [
        "#**Tratamento dos dados**"
      ],
      "metadata": {
        "id": "TKfLQq_QZTm2"
      }
    },
    {
      "cell_type": "code",
      "source": [
        "import pandas as pd\n",
        "import numpy as np\n",
        "import seaborn as sns\n",
        "from sklearn.preprocessing import StandardScaler"
      ],
      "metadata": {
        "id": "b11I5Y0oZX1E"
      },
      "execution_count": 7,
      "outputs": []
    },
    {
      "cell_type": "code",
      "source": [
        "data = pd.read_csv('housing.csv')\n",
        "data_random = data.sample(n=len(data), random_state=1)\n",
        "\n",
        "pd.get_dummies(data_random['ocean_proximity'])  \n",
        "data_random.drop('ocean_proximity', axis=1)\n",
        "data_random_concat = pd.concat([data_random.drop('ocean_proximity', axis=1), pd.get_dummies(data_random['ocean_proximity'])], axis=1)\n",
        "\n",
        "data_random_concat = data_random_concat[['longitude', 'latitude', 'housing_median_age', 'total_rooms',\n",
        "                                         'total_bedrooms',  'population',  'households', 'median_income',\n",
        "                                        '<1H OCEAN',   'INLAND', 'ISLAND', 'NEAR BAY', 'median_house_value']]\n",
        "data_random_concat = data_random_concat.dropna() \n",
        "data_random_concat.head"
      ],
      "metadata": {
        "id": "qfqH_1BzZchx"
      },
      "execution_count": null,
      "outputs": []
    },
    {
      "cell_type": "markdown",
      "source": [
        "#**Divisão dos dados**"
      ],
      "metadata": {
        "id": "xyaxRgd0ahGc"
      }
    },
    {
      "cell_type": "code",
      "source": [
        "treino_pd, teste_pd, validacao_pd = data_random_concat[\n",
        "    :18000], data_random_concat[18000:19217], data_random_concat[19215:]\n",
        "\n",
        "treino_x, treino_y = treino_pd.to_numpy()[:, :-1], treino_pd.to_numpy()[:, -1]\n",
        "teste_x, teste_y = teste_pd.to_numpy()[:, :-1], teste_pd.to_numpy()[:, -1]\n",
        "validacao_x, validacao_y = validacao_pd.to_numpy(\n",
        ")[:, :-1], validacao_pd.to_numpy()[:, -1]"
      ],
      "metadata": {
        "id": "zxFnHK8jasDx"
      },
      "execution_count": 123,
      "outputs": []
    },
    {
      "cell_type": "code",
      "source": [
        "teste_x.shape"
      ],
      "metadata": {
        "colab": {
          "base_uri": "https://localhost:8080/"
        },
        "id": "pzpj5D_BpYiC",
        "outputId": "f0feccdc-b168-49c9-baa0-8dcd4046e1bf"
      },
      "execution_count": 117,
      "outputs": [
        {
          "output_type": "execute_result",
          "data": {
            "text/plain": [
              "(4087, 12)"
            ]
          },
          "metadata": {},
          "execution_count": 117
        }
      ]
    },
    {
      "cell_type": "markdown",
      "source": [
        "# **Métricas**\n"
      ],
      "metadata": {
        "id": "BuukinfwrIhW"
      }
    },
    {
      "cell_type": "code",
      "source": [
        "from sklearn.metrics import mean_squared_error as mse\n",
        "from sklearn.metrics import r2_score"
      ],
      "metadata": {
        "id": "EQCsZPRWrMjB"
      },
      "execution_count": 81,
      "outputs": []
    },
    {
      "cell_type": "markdown",
      "source": [
        "# **Modelo #1: kNN**"
      ],
      "metadata": {
        "id": "GE8wLpn7czQ0"
      }
    },
    {
      "cell_type": "code",
      "source": [
        "from sklearn.neighbors import KNeighborsRegressor \n",
        "\n",
        "knn = KNeighborsRegressor(n_neighbors=20).fit(treino_x, treino_y)"
      ],
      "metadata": {
        "id": "1UfxoBmRc9Ae"
      },
      "execution_count": 53,
      "outputs": []
    },
    {
      "cell_type": "code",
      "source": [
        "pred_y = knn.predict(teste_x)\n",
        "print(f'acuracia: {r2_score(teste_y, pred_y)}')\n",
        "\n",
        "print(f'valor real da casa: {teste_y[[0]]}, valor da predição: {knn.predict(teste_x[[0]])}')"
      ],
      "metadata": {
        "colab": {
          "base_uri": "https://localhost:8080/"
        },
        "id": "TDMljhy3dd3w",
        "outputId": "75ef529a-a5d1-4226-933e-c47acfcc2388"
      },
      "execution_count": 124,
      "outputs": [
        {
          "output_type": "stream",
          "name": "stdout",
          "text": [
            "acuracia: 0.3340156283994453\n",
            "valor real da casa: [442500.], valor da predição: [362450.35]\n"
          ]
        }
      ]
    },
    {
      "cell_type": "markdown",
      "source": [
        "#**Modelo #2: Naive Bayes**\n"
      ],
      "metadata": {
        "id": "H0yrHOqli4SV"
      }
    },
    {
      "cell_type": "code",
      "source": [
        "from sklearn.naive_bayes import GaussianNB\n",
        "\n",
        "modelo_nb = GaussianNB().fit(treino_x, treino_y)\n",
        "pred_y = modelo_nb.predict(teste_x)\n",
        "print(f'acuracia: {r2_score(teste_y, pred_y)}')\n",
        "\n",
        "print(f'valor real da casa: {teste_y[[0]]}, valor da predição: {modelo_nb.predict(teste_x[[0]])}')"
      ],
      "metadata": {
        "colab": {
          "base_uri": "https://localhost:8080/"
        },
        "id": "yjtuXyMNi7ya",
        "outputId": "73e3f431-76b3-4932-feea-059bf2b3439a"
      },
      "execution_count": 110,
      "outputs": [
        {
          "output_type": "stream",
          "name": "stdout",
          "text": [
            "acuracia: 0.25557710043960746\n",
            "valor real da casa: [442500.], valor da predição: [416300.]\n"
          ]
        }
      ]
    },
    {
      "cell_type": "markdown",
      "source": [
        "#**Modelo #3: Random Forest Regressor**: melhor resultado"
      ],
      "metadata": {
        "id": "qbUVfqXMl2nf"
      }
    },
    {
      "cell_type": "code",
      "source": [
        "from sklearn.ensemble import RandomForestRegressor\n",
        "\n",
        "modelo_rfr = RandomForestRegressor().fit(treino_x, treino_y)\n",
        "pred_y = modelo_rfr.predict(teste_x)"
      ],
      "metadata": {
        "id": "HeYIv3zFk35f"
      },
      "execution_count": 126,
      "outputs": []
    },
    {
      "cell_type": "code",
      "source": [
        "print(f'acuracia: {r2_score(teste_y, pred_y)}')\n",
        "print(f'valor real da casa: {teste_y[[1]]}, valor da predição: {modelo_rfr.predict(teste_x[[1]])}')"
      ],
      "metadata": {
        "colab": {
          "base_uri": "https://localhost:8080/"
        },
        "id": "f3CJyHSWrfy1",
        "outputId": "3effb162-22b3-4e98-f41f-26341f0b2e12"
      },
      "execution_count": 127,
      "outputs": [
        {
          "output_type": "stream",
          "name": "stdout",
          "text": [
            "acuracia: 0.832981181998441\n",
            "valor real da casa: [184600.], valor da predição: [163491.]\n"
          ]
        }
      ]
    },
    {
      "cell_type": "markdown",
      "source": [
        "#**Modelo #4: Regresssão Linear**"
      ],
      "metadata": {
        "id": "GHPhJQukmam3"
      }
    },
    {
      "cell_type": "code",
      "source": [
        "from sklearn.linear_model import LinearRegression\n",
        "modelo_lr = LinearRegression().fit(treino_x, treino_y)\n",
        "pred_y = modelo_lr.predict(teste_x)\n",
        "print(f'acuracia: {r2_score(teste_y, pred_y)}')\n",
        "print(f'valor real da casa: {teste_y[[0]]}, valor da predição: {modelo_lr.predict(teste_x[[0]])}')"
      ],
      "metadata": {
        "colab": {
          "base_uri": "https://localhost:8080/"
        },
        "id": "kzH_CVbolXd6",
        "outputId": "20823747-4b37-4cd7-f78b-9218d8ea96ef"
      },
      "execution_count": 109,
      "outputs": [
        {
          "output_type": "stream",
          "name": "stdout",
          "text": [
            "acuracia: 0.6718383705358933\n",
            "valor real da casa: [442500.], valor da predição: [411545.52186768]\n"
          ]
        }
      ]
    }
  ]
}